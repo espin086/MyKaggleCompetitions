{
 "cells": [
  {
   "cell_type": "code",
   "execution_count": 15,
   "metadata": {},
   "outputs": [
    {
     "name": "stdout",
     "output_type": "stream",
     "text": [
      "Requirement already satisfied: jjutils in /Users/jjespinoza/Documents/repos/MyKaggleCompetitions/LLMDetectAIGeneratedText/LMDetectAIGeneratedText-venv/lib/python3.11/site-packages (0.0.4)\n",
      "Requirement already satisfied: matplotlib==3.8.0 in /Users/jjespinoza/Documents/repos/MyKaggleCompetitions/LLMDetectAIGeneratedText/LMDetectAIGeneratedText-venv/lib/python3.11/site-packages (from jjutils) (3.8.0)\n",
      "Requirement already satisfied: pandas==1.5.3 in /Users/jjespinoza/Documents/repos/MyKaggleCompetitions/LLMDetectAIGeneratedText/LMDetectAIGeneratedText-venv/lib/python3.11/site-packages (from jjutils) (1.5.3)\n",
      "Requirement already satisfied: seaborn==0.13.0 in /Users/jjespinoza/Documents/repos/MyKaggleCompetitions/LLMDetectAIGeneratedText/LMDetectAIGeneratedText-venv/lib/python3.11/site-packages (from jjutils) (0.13.0)\n",
      "Requirement already satisfied: contourpy>=1.0.1 in /Users/jjespinoza/Documents/repos/MyKaggleCompetitions/LLMDetectAIGeneratedText/LMDetectAIGeneratedText-venv/lib/python3.11/site-packages (from matplotlib==3.8.0->jjutils) (1.1.1)\n",
      "Requirement already satisfied: cycler>=0.10 in /Users/jjespinoza/Documents/repos/MyKaggleCompetitions/LLMDetectAIGeneratedText/LMDetectAIGeneratedText-venv/lib/python3.11/site-packages (from matplotlib==3.8.0->jjutils) (0.12.1)\n",
      "Requirement already satisfied: fonttools>=4.22.0 in /Users/jjespinoza/Documents/repos/MyKaggleCompetitions/LLMDetectAIGeneratedText/LMDetectAIGeneratedText-venv/lib/python3.11/site-packages (from matplotlib==3.8.0->jjutils) (4.43.1)\n",
      "Requirement already satisfied: kiwisolver>=1.0.1 in /Users/jjespinoza/Documents/repos/MyKaggleCompetitions/LLMDetectAIGeneratedText/LMDetectAIGeneratedText-venv/lib/python3.11/site-packages (from matplotlib==3.8.0->jjutils) (1.4.5)\n",
      "Requirement already satisfied: numpy<2,>=1.21 in /Users/jjespinoza/Documents/repos/MyKaggleCompetitions/LLMDetectAIGeneratedText/LMDetectAIGeneratedText-venv/lib/python3.11/site-packages (from matplotlib==3.8.0->jjutils) (1.26.1)\n",
      "Requirement already satisfied: packaging>=20.0 in /Users/jjespinoza/Documents/repos/MyKaggleCompetitions/LLMDetectAIGeneratedText/LMDetectAIGeneratedText-venv/lib/python3.11/site-packages (from matplotlib==3.8.0->jjutils) (23.2)\n",
      "Requirement already satisfied: pillow>=6.2.0 in /Users/jjespinoza/Documents/repos/MyKaggleCompetitions/LLMDetectAIGeneratedText/LMDetectAIGeneratedText-venv/lib/python3.11/site-packages (from matplotlib==3.8.0->jjutils) (10.1.0)\n",
      "Requirement already satisfied: pyparsing>=2.3.1 in /Users/jjespinoza/Documents/repos/MyKaggleCompetitions/LLMDetectAIGeneratedText/LMDetectAIGeneratedText-venv/lib/python3.11/site-packages (from matplotlib==3.8.0->jjutils) (3.1.1)\n",
      "Requirement already satisfied: python-dateutil>=2.7 in /Users/jjespinoza/Documents/repos/MyKaggleCompetitions/LLMDetectAIGeneratedText/LMDetectAIGeneratedText-venv/lib/python3.11/site-packages (from matplotlib==3.8.0->jjutils) (2.8.2)\n",
      "Requirement already satisfied: pytz>=2020.1 in /Users/jjespinoza/Documents/repos/MyKaggleCompetitions/LLMDetectAIGeneratedText/LMDetectAIGeneratedText-venv/lib/python3.11/site-packages (from pandas==1.5.3->jjutils) (2023.3.post1)\n",
      "Requirement already satisfied: six>=1.5 in /Users/jjespinoza/Documents/repos/MyKaggleCompetitions/LLMDetectAIGeneratedText/LMDetectAIGeneratedText-venv/lib/python3.11/site-packages (from python-dateutil>=2.7->matplotlib==3.8.0->jjutils) (1.16.0)\n",
      "\n",
      "\u001b[1m[\u001b[0m\u001b[34;49mnotice\u001b[0m\u001b[1;39;49m]\u001b[0m\u001b[39;49m A new release of pip is available: \u001b[0m\u001b[31;49m23.2.1\u001b[0m\u001b[39;49m -> \u001b[0m\u001b[32;49m23.3.1\u001b[0m\n",
      "\u001b[1m[\u001b[0m\u001b[34;49mnotice\u001b[0m\u001b[1;39;49m]\u001b[0m\u001b[39;49m To update, run: \u001b[0m\u001b[32;49mpip install --upgrade pip\u001b[0m\n"
     ]
    }
   ],
   "source": [
    "!pip install jjutils"
   ]
  },
  {
   "cell_type": "code",
   "execution_count": 19,
   "metadata": {},
   "outputs": [
    {
     "ename": "ModuleNotFoundError",
     "evalue": "No module named 'jjutils.FileHanlder'",
     "output_type": "error",
     "traceback": [
      "\u001b[0;31m---------------------------------------------------------------------------\u001b[0m",
      "\u001b[0;31mModuleNotFoundError\u001b[0m                       Traceback (most recent call last)",
      "\u001b[1;32m/Users/jjespinoza/Documents/repos/MyKaggleCompetitions/LLMDetectAIGeneratedText/src/data_exploration.ipynb Cell 2\u001b[0m line \u001b[0;36m8\n\u001b[1;32m      <a href='vscode-notebook-cell:/Users/jjespinoza/Documents/repos/MyKaggleCompetitions/LLMDetectAIGeneratedText/src/data_exploration.ipynb#W2sZmlsZQ%3D%3D?line=3'>4</a>\u001b[0m \u001b[39mimport\u001b[39;00m \u001b[39mmatplotlib\u001b[39;00m\u001b[39m.\u001b[39;00m\u001b[39mpyplot\u001b[39;00m \u001b[39mas\u001b[39;00m \u001b[39mplt\u001b[39;00m\n\u001b[1;32m      <a href='vscode-notebook-cell:/Users/jjespinoza/Documents/repos/MyKaggleCompetitions/LLMDetectAIGeneratedText/src/data_exploration.ipynb#W2sZmlsZQ%3D%3D?line=5'>6</a>\u001b[0m \u001b[39mfrom\u001b[39;00m \u001b[39mconfig\u001b[39;00m \u001b[39mimport\u001b[39;00m TRAINING_DATA\n\u001b[0;32m----> <a href='vscode-notebook-cell:/Users/jjespinoza/Documents/repos/MyKaggleCompetitions/LLMDetectAIGeneratedText/src/data_exploration.ipynb#W2sZmlsZQ%3D%3D?line=7'>8</a>\u001b[0m \u001b[39mfrom\u001b[39;00m \u001b[39mjjutils\u001b[39;00m\u001b[39m.\u001b[39;00m\u001b[39mDataExplorer\u001b[39;00m \u001b[39mimport\u001b[39;00m DataFrameExplorer\n",
      "File \u001b[0;32m~/Documents/repos/MyKaggleCompetitions/LLMDetectAIGeneratedText/LMDetectAIGeneratedText-venv/lib/python3.11/site-packages/jjutils/DataExplorer.py:6\u001b[0m\n\u001b[1;32m      2\u001b[0m \u001b[39mimport\u001b[39;00m \u001b[39mseaborn\u001b[39;00m \u001b[39mas\u001b[39;00m \u001b[39msns\u001b[39;00m\n\u001b[1;32m      3\u001b[0m \u001b[39mimport\u001b[39;00m \u001b[39mmatplotlib\u001b[39;00m\u001b[39m.\u001b[39;00m\u001b[39mpyplot\u001b[39;00m \u001b[39mas\u001b[39;00m \u001b[39mplt\u001b[39;00m\n\u001b[0;32m----> 6\u001b[0m \u001b[39mfrom\u001b[39;00m \u001b[39mjjutils\u001b[39;00m\u001b[39m.\u001b[39;00m\u001b[39mFileHanlder\u001b[39;00m \u001b[39mimport\u001b[39;00m FileHandler\n\u001b[1;32m      9\u001b[0m \u001b[39mclass\u001b[39;00m \u001b[39mDataFrameExplorer\u001b[39;00m:\n\u001b[1;32m     10\u001b[0m     \u001b[39mdef\u001b[39;00m \u001b[39m__init__\u001b[39m(\u001b[39mself\u001b[39m, dataframe):\n",
      "\u001b[0;31mModuleNotFoundError\u001b[0m: No module named 'jjutils.FileHanlder'"
     ]
    }
   ],
   "source": [
    "import pandas as pd\n",
    "import pandas as pd\n",
    "import seaborn as sns\n",
    "import matplotlib.pyplot as plt\n",
    "\n",
    "from config import TRAINING_DATA\n"
   ]
  },
  {
   "cell_type": "code",
   "execution_count": 12,
   "metadata": {},
   "outputs": [],
   "source": [
    "df = pd.read_csv(TRAINING_DATA)\n"
   ]
  },
  {
   "cell_type": "code",
   "execution_count": 13,
   "metadata": {},
   "outputs": [
    {
     "ename": "NameError",
     "evalue": "name 'DataFrameExplorer' is not defined",
     "output_type": "error",
     "traceback": [
      "\u001b[0;31m---------------------------------------------------------------------------\u001b[0m",
      "\u001b[0;31mNameError\u001b[0m                                 Traceback (most recent call last)",
      "\u001b[1;32m/Users/jjespinoza/Documents/repos/MyKaggleCompetitions/LLMDetectAIGeneratedText/src/data_exploration.ipynb Cell 3\u001b[0m line \u001b[0;36m1\n\u001b[0;32m----> <a href='vscode-notebook-cell:/Users/jjespinoza/Documents/repos/MyKaggleCompetitions/LLMDetectAIGeneratedText/src/data_exploration.ipynb#W0sZmlsZQ%3D%3D?line=0'>1</a>\u001b[0m DataFrameExplorer(dataframe\u001b[39m=\u001b[39mdf)\u001b[39m.\u001b[39mrun()\n",
      "\u001b[0;31mNameError\u001b[0m: name 'DataFrameExplorer' is not defined"
     ]
    }
   ],
   "source": [
    "DataFrameExplorer(dataframe=df).run()"
   ]
  },
  {
   "cell_type": "code",
   "execution_count": null,
   "metadata": {},
   "outputs": [],
   "source": []
  }
 ],
 "metadata": {
  "kernelspec": {
   "display_name": "LMDetectAIGeneratedText-venv",
   "language": "python",
   "name": "python3"
  },
  "language_info": {
   "codemirror_mode": {
    "name": "ipython",
    "version": 3
   },
   "file_extension": ".py",
   "mimetype": "text/x-python",
   "name": "python",
   "nbconvert_exporter": "python",
   "pygments_lexer": "ipython3",
   "version": "3.11.5"
  }
 },
 "nbformat": 4,
 "nbformat_minor": 2
}
